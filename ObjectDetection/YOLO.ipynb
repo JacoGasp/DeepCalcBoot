{
 "cells": [
  {
   "cell_type": "code",
   "execution_count": null,
   "metadata": {},
   "outputs": [],
   "source": [
    "import sys\n",
    "sys.path.append(\"home/jacopo.gasparetto/Workspaces/keras-yolo2\")\n",
    "import numpy as np\n",
    "im"
   ]
  },
  {
   "cell_type": "code",
   "execution_count": null,
   "metadata": {},
   "outputs": [],
   "source": [
    "LABELS = [\"0\", \"1\", \"2\", \"3\", \"4\", \"5\", \"6\", \"7\", \"8\", \"9\", \"+\", \"-\", \"times\", \"div\", \"forward_slash\", \"(\", \")\", \"[\", \"]\", \n",
    "          \"{\", \"}\", \"!\", \",\"]\n",
    "IMAGE_H, IMAGE_W = 416, 416\n",
    "GRID_H, GRID_W   = 13, 13\n",
    "BOX = 5\n",
    "CLASS = len(LABELS)\n",
    "CLASS_WEIGHTS = np.ones(CLASS, dtype='float32')\n",
    "OBJ_THRESHOLD = 0.3\n",
    "NMS_THRESHOLD = 0.3\n",
    "\n",
    "ANCHORS = \n",
    "NO_OBJECT_SCALE = 1.0\n",
    "COORD_SCALE = 1.0\n",
    "CLASS_SCALE = 1.0\n",
    "\n",
    "BATCH_SIZE = 16\n",
    "WARM_UP_BATCHES = 0\n",
    "TRUE_BOX_BUFFER = 50"
   ]
  }
 ],
 "metadata": {
  "kernelspec": {
   "display_name": "Python 3",
   "language": "python",
   "name": "python3"
  },
  "language_info": {
   "codemirror_mode": {
    "name": "ipython",
    "version": 3
   },
   "file_extension": ".py",
   "mimetype": "text/x-python",
   "name": "python",
   "nbconvert_exporter": "python",
   "pygments_lexer": "ipython3",
   "version": "3.6.5"
  }
 },
 "nbformat": 4,
 "nbformat_minor": 2
}
