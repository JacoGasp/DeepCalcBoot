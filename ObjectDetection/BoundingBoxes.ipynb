{
 "cells": [
  {
   "cell_type": "code",
   "execution_count": 49,
   "metadata": {},
   "outputs": [],
   "source": [
    "from __future__ import division\n",
    "import numpy as np\n",
    "import os\n",
    "from PIL import Image\n",
    "from IPython.display import display\n",
    "import glob\n",
    "import random\n",
    "from tqdm import tqdm_notebook as tqdm\n",
    "import matplotlib.pyplot as plt\n",
    "from matplotlib.patches import Rectangle\n",
    "%matplotlib ipympl"
   ]
  },
  {
   "cell_type": "code",
   "execution_count": 2,
   "metadata": {},
   "outputs": [],
   "source": [
    "root = os.getcwd()\n",
    "data_path = \"extracted_images\"\n",
    "dataset_dir =\"dataset\""
   ]
  },
  {
   "cell_type": "code",
   "execution_count": 77,
   "metadata": {},
   "outputs": [],
   "source": [
    "def generate_datasets(data_dir, out_folder, symbols_required):\n",
    "    \"\"\"\n",
    "    Divide features and label in two different datasets\n",
    "    \"\"\"\n",
    "    from shutil import copyfile\n",
    "    \n",
    "    if os.path.isdir(out_folder):\n",
    "        raise ValueError(\"dataset folder already present.\")\n",
    "        \n",
    "    else:\n",
    "        features_dir = os.path.join(out_folder, \"features\")\n",
    "        labels_dir = os.path.join(out_folder, \"labels\")\n",
    "        \n",
    "        # Make base folder structure\n",
    "        os.mkdir(out_folder)\n",
    "        os.mkdir(features_dir)\n",
    "        os.mkdir(labels_dir)\n",
    "    \n",
    "    # Get symbols class names\n",
    "    if symbols_required:\n",
    "        data_folders = symbols_required\n",
    "    else:\n",
    "        data_folders = os.listdir(data_dir)\n",
    "    \n",
    "   # Iterate over each class \n",
    "    for folder in tqdm(data_folders):\n",
    "        \n",
    "        if folder== \".\":\n",
    "                continue\n",
    "        \n",
    "        symbols = os.listdir(os.path.join(data_dir, folder))\n",
    "        print(\"Copying\", folder, \" counts:\", len(symbols))\n",
    "        os.mkdir(os.path.join(features_dir, folder))\n",
    "        os.mkdir(os.path.join(labels_dir, folder))\n",
    "        for symbol in symbols:\n",
    "            if symbol[0]== \".\":\n",
    "                continue\n",
    "            old_path = os.path.join(data_dir, os.path.join(folder, symbol))\n",
    "            if \"_\" in symbol:\n",
    "                new_path = os.path.join(labels_dir, os.path.join(folder, symbol))\n",
    "            else:\n",
    "                new_path = os.path.join(features_dir, os.path.join(folder, symbol))\n",
    "            copyfile(old_path, new_path)"
   ]
  },
  {
   "cell_type": "code",
   "execution_count": 78,
   "metadata": {},
   "outputs": [
    {
     "data": {
      "application/vnd.jupyter.widget-view+json": {
       "model_id": "b32c59fc7e3b42fda01e4c373ddd7e42",
       "version_major": 2,
       "version_minor": 0
      },
      "text/html": [
       "<p>Failed to display Jupyter Widget of type <code>HBox</code>.</p>\n",
       "<p>\n",
       "  If you're reading this message in the Jupyter Notebook or JupyterLab Notebook, it may mean\n",
       "  that the widgets JavaScript is still loading. If this message persists, it\n",
       "  likely means that the widgets JavaScript library is either not installed or\n",
       "  not enabled. See the <a href=\"https://ipywidgets.readthedocs.io/en/stable/user_install.html\">Jupyter\n",
       "  Widgets Documentation</a> for setup instructions.\n",
       "</p>\n",
       "<p>\n",
       "  If you're reading this message in another frontend (for example, a static\n",
       "  rendering on GitHub or <a href=\"https://nbviewer.jupyter.org/\">NBViewer</a>),\n",
       "  it may mean that your frontend doesn't currently support widgets.\n",
       "</p>\n"
      ],
      "text/plain": [
       "HBox(children=(IntProgress(value=0, max=23), HTML(value='')))"
      ]
     },
     "metadata": {},
     "output_type": "display_data"
    },
    {
     "name": "stdout",
     "output_type": "stream",
     "text": [
      "Copying 0  counts: 6914\n",
      "Copying 1  counts: 26520\n",
      "Copying 2  counts: 26141\n",
      "Copying 3  counts: 10909\n",
      "Copying 4  counts: 7396\n",
      "Copying 5  counts: 3545\n",
      "Copying 6  counts: 3118\n",
      "Copying 7  counts: 2909\n",
      "Copying 8  counts: 3068\n",
      "Copying 9  counts: 3737\n",
      "Copying +  counts: 25112\n",
      "Copying -  counts: 33997\n",
      "Copying times  counts: 3251\n",
      "Copying div  counts: 868\n",
      "Copying forward_slash  counts: 199\n",
      "Copying (  counts: 14294\n",
      "Copying )  counts: 14355\n",
      "Copying [  counts: 779\n",
      "Copying ]  counts: 780\n",
      "Copying {  counts: 376\n",
      "Copying }  counts: 377\n",
      "Copying !  counts: 1300\n",
      "Copying ,  counts: 1906\n"
     ]
    }
   ],
   "source": [
    "symbols=[\"0\", \"1\", \"2\", \"3\", \"4\", \"5\", \"6\", \"7\", \"8\", \"9\", \"+\", \"-\", \"times\", \"div\", \"forward_slash\", \"(\", \")\", \"[\", \"]\",\n",
    "         \"{\", \"}\", \"!\", \",\"]\n",
    "generate_datasets(\"extracted_images\", dataset_dir, symbols)"
   ]
  },
  {
   "cell_type": "code",
   "execution_count": 70,
   "metadata": {},
   "outputs": [],
   "source": [
    "def disp_sample(folders_path, sample_size):\n",
    "    basename = os.path.basename(folders_path)\n",
    "    folders = os.listdir(folders_path)\n",
    "    for folder in folders:\n",
    "        if folder.startswith(\".\"):\n",
    "            continue\n",
    "        print(\"{}/{}\".format(basename, folder))\n",
    "        folder_path = os.path.join(folders_path, folder)\n",
    "        image_files = os.listdir(folder_path)\n",
    "        if len(image_files) == 0:\n",
    "            continue\n",
    "        image_samples = random.sample(image_files, sample_size)\n",
    "        for image in image_samples:\n",
    "            image_file = os.path.join(folders_path, os.path.join(folder, image))\n",
    "            i = Image.open(image_file)\n",
    "            display(i)"
   ]
  },
  {
   "cell_type": "code",
   "execution_count": 79,
   "metadata": {},
   "outputs": [
    {
     "name": "stdout",
     "output_type": "stream",
     "text": [
      "features/{\n"
     ]
    },
    {
     "data": {
      "image/png": "[encoded data removed]",
      "text/plain": [
       "<PIL.JpegImagePlugin.JpegImageFile image mode=L size=45x45 at 0x7FD7C4ECA828>"
      ]
     },
     "metadata": {},
     "output_type": "display_data"
    },
    {
     "name": "stdout",
     "output_type": "stream",
     "text": [
      "features/3\n"
     ]
    },
    {
     "data": {
      "image/png": "[encoded data removed]",
      "text/plain": [
       "<PIL.JpegImagePlugin.JpegImageFile image mode=L size=45x45 at 0x7FD7C52541D0>"
      ]
     },
     "metadata": {},
     "output_type": "display_data"
    },
    {
     "name": "stdout",
     "output_type": "stream",
     "text": [
      "features/-\n"
     ]
    },
    {
     "data": {
      "image/png": "[encoded data removed]",
      "text/plain": [
       "<PIL.JpegImagePlugin.JpegImageFile image mode=L size=45x45 at 0x7FD7C4ECA898>"
      ]
     },
     "metadata": {},
     "output_type": "display_data"
    },
    {
     "name": "stdout",
     "output_type": "stream",
     "text": [
      "features/times\n"
     ]
    },
    {
     "data": {
      "image/png": "[encoded data removed]",
      "text/plain": [
       "<PIL.JpegImagePlugin.JpegImageFile image mode=L size=45x45 at 0x7FD7C52540F0>"
      ]
     },
     "metadata": {},
     "output_type": "display_data"
    },
    {
     "name": "stdout",
     "output_type": "stream",
     "text": [
      "features/9\n"
     ]
    },
    {
     "data": {
      "image/png": "[encoded data removed]",
      "text/plain": [
       "<PIL.JpegImagePlugin.JpegImageFile image mode=L size=45x45 at 0x7FD7C4ECA3C8>"
      ]
     },
     "metadata": {},
     "output_type": "display_data"
    },
    {
     "name": "stdout",
     "output_type": "stream",
     "text": [
      "features/1\n"
     ]
    },
    {
     "data": {
      "image/png": "[encoded data removed]",
      "text/plain": [
       "<PIL.JpegImagePlugin.JpegImageFile image mode=L size=45x45 at 0x7FD7C52541D0>"
      ]
     },
     "metadata": {},
     "output_type": "display_data"
    },
    {
     "name": "stdout",
     "output_type": "stream",
     "text": [
      "features/]\n"
     ]
    },
    {
     "data": {
      "image/png": "[encoded data removed]",
      "text/plain": [
       "<PIL.JpegImagePlugin.JpegImageFile image mode=L size=45x45 at 0x7FD7C4ECADA0>"
      ]
     },
     "metadata": {},
     "output_type": "display_data"
    },
    {
     "name": "stdout",
     "output_type": "stream",
     "text": [
      "features/2\n"
     ]
    },
    {
     "data": {
      "image/png": "[encoded data removed]",
      "text/plain": [
       "<PIL.JpegImagePlugin.JpegImageFile image mode=L size=45x45 at 0x7FD7C5254710>"
      ]
     },
     "metadata": {},
     "output_type": "display_data"
    },
    {
     "name": "stdout",
     "output_type": "stream",
     "text": [
      "features/}\n"
     ]
    },
    {
     "data": {
      "image/png": "[encoded data removed]",
      "text/plain": [
       "<PIL.JpegImagePlugin.JpegImageFile image mode=L size=45x45 at 0x7FD7C4ECA898>"
      ]
     },
     "metadata": {},
     "output_type": "display_data"
    },
    {
     "name": "stdout",
     "output_type": "stream",
     "text": [
      "features/+\n"
     ]
    },
    {
     "data": {
      "image/png": "[encoded data removed]",
      "text/plain": [
       "<PIL.JpegImagePlugin.JpegImageFile image mode=L size=45x45 at 0x7FD7C5254710>"
      ]
     },
     "metadata": {},
     "output_type": "display_data"
    },
    {
     "name": "stdout",
     "output_type": "stream",
     "text": [
      "features/0\n"
     ]
    },
    {
     "data": {
      "image/png": "[encoded data removed]",
      "text/plain": [
       "<PIL.JpegImagePlugin.JpegImageFile image mode=L size=45x45 at 0x7FD7C4ECA828>"
      ]
     },
     "metadata": {},
     "output_type": "display_data"
    },
    {
     "name": "stdout",
     "output_type": "stream",
     "text": [
      "features/8\n"
     ]
    },
    {
     "data": {
      "image/png": "[encoded data removed]",
      "text/plain": [
       "<PIL.JpegImagePlugin.JpegImageFile image mode=L size=45x45 at 0x7FD7C5254160>"
      ]
     },
     "metadata": {},
     "output_type": "display_data"
    },
    {
     "name": "stdout",
     "output_type": "stream",
     "text": [
      "features/,\n"
     ]
    },
    {
     "data": {
      "image/png": "[encoded data removed]",
      "text/plain": [
       "<PIL.JpegImagePlugin.JpegImageFile image mode=L size=45x45 at 0x7FD7C4ECA898>"
      ]
     },
     "metadata": {},
     "output_type": "display_data"
    },
    {
     "name": "stdout",
     "output_type": "stream",
     "text": [
      "features/!\n"
     ]
    },
    {
     "data": {
      "image/png": "[encoded data removed]",
      "text/plain": [
       "<PIL.JpegImagePlugin.JpegImageFile image mode=L size=45x45 at 0x7FD7C5254710>"
      ]
     },
     "metadata": {},
     "output_type": "display_data"
    },
    {
     "name": "stdout",
     "output_type": "stream",
     "text": [
      "features/5\n"
     ]
    },
    {
     "data": {
      "image/png": "[encoded data removed]",
      "text/plain": [
       "<PIL.JpegImagePlugin.JpegImageFile image mode=L size=45x45 at 0x7FD7C4ECA828>"
      ]
     },
     "metadata": {},
     "output_type": "display_data"
    },
    {
     "name": "stdout",
     "output_type": "stream",
     "text": [
      "features/4\n"
     ]
    },
    {
     "data": {
      "image/png": "[encoded data removed]",
      "text/plain": [
       "<PIL.JpegImagePlugin.JpegImageFile image mode=L size=45x45 at 0x7FD7C52544A8>"
      ]
     },
     "metadata": {},
     "output_type": "display_data"
    },
    {
     "name": "stdout",
     "output_type": "stream",
     "text": [
      "features/)\n"
     ]
    },
    {
     "data": {
      "image/png": "[encoded data removed]",
      "text/plain": [
       "<PIL.JpegImagePlugin.JpegImageFile image mode=L size=45x45 at 0x7FD7C4ECA898>"
      ]
     },
     "metadata": {},
     "output_type": "display_data"
    },
    {
     "name": "stdout",
     "output_type": "stream",
     "text": [
      "features/6\n"
     ]
    },
    {
     "data": {
      "image/png": "[encoded data removed]",
      "text/plain": [
       "<PIL.JpegImagePlugin.JpegImageFile image mode=L size=45x45 at 0x7FD7C52541D0>"
      ]
     },
     "metadata": {},
     "output_type": "display_data"
    },
    {
     "name": "stdout",
     "output_type": "stream",
     "text": [
      "features/forward_slash\n",
      "features/7\n"
     ]
    },
    {
     "data": {
      "image/png": "[encoded data removed]",
      "text/plain": [
       "<PIL.JpegImagePlugin.JpegImageFile image mode=L size=45x45 at 0x7FD7C4ECA828>"
      ]
     },
     "metadata": {},
     "output_type": "display_data"
    },
    {
     "name": "stdout",
     "output_type": "stream",
     "text": [
      "features/[\n"
     ]
    },
    {
     "data": {
      "image/png": "[encoded data removed]",
      "text/plain": [
       "<PIL.JpegImagePlugin.JpegImageFile image mode=L size=45x45 at 0x7FD7C5254710>"
      ]
     },
     "metadata": {},
     "output_type": "display_data"
    },
    {
     "name": "stdout",
     "output_type": "stream",
     "text": [
      "features/div\n"
     ]
    },
    {
     "data": {
      "image/png": "[encoded data removed]",
      "text/plain": [
       "<PIL.JpegImagePlugin.JpegImageFile image mode=L size=45x45 at 0x7FD7C4ECA898>"
      ]
     },
     "metadata": {},
     "output_type": "display_data"
    },
    {
     "name": "stdout",
     "output_type": "stream",
     "text": [
      "features/(\n"
     ]
    },
    {
     "data": {
      "image/png": "[encoded data removed]",
      "text/plain": [
       "<PIL.JpegImagePlugin.JpegImageFile image mode=L size=45x45 at 0x7FD7C5254710>"
      ]
     },
     "metadata": {},
     "output_type": "display_data"
    }
   ],
   "source": [
    "disp_sample(\"dataset/features\", 1)"
   ]
  },
  {
   "cell_type": "code",
   "execution_count": 80,
   "metadata": {},
   "outputs": [
    {
     "name": "stdout",
     "output_type": "stream",
     "text": [
      "labels/{\n"
     ]
    },
    {
     "data": {
      "image/png": "[encoded data removed]",
      "text/plain": [
       "<PIL.JpegImagePlugin.JpegImageFile image mode=L size=45x45 at 0x7FD7C5254208>"
      ]
     },
     "metadata": {},
     "output_type": "display_data"
    },
    {
     "name": "stdout",
     "output_type": "stream",
     "text": [
      "labels/3\n"
     ]
    },
    {
     "data": {
      "image/png": "[encoded data removed]",
      "text/plain": [
       "<PIL.JpegImagePlugin.JpegImageFile image mode=L size=45x45 at 0x7FD7C52544A8>"
      ]
     },
     "metadata": {},
     "output_type": "display_data"
    },
    {
     "name": "stdout",
     "output_type": "stream",
     "text": [
      "labels/-\n"
     ]
    },
    {
     "data": {
      "image/png": "[encoded data removed]",
      "text/plain": [
       "<PIL.JpegImagePlugin.JpegImageFile image mode=L size=45x45 at 0x7FD7C52546A0>"
      ]
     },
     "metadata": {},
     "output_type": "display_data"
    },
    {
     "name": "stdout",
     "output_type": "stream",
     "text": [
      "labels/times\n"
     ]
    },
    {
     "data": {
      "image/png": "[encoded data removed]",
      "text/plain": [
       "<PIL.JpegImagePlugin.JpegImageFile image mode=L size=45x45 at 0x7FD7C5254160>"
      ]
     },
     "metadata": {},
     "output_type": "display_data"
    },
    {
     "name": "stdout",
     "output_type": "stream",
     "text": [
      "labels/9\n"
     ]
    },
    {
     "data": {
      "image/png": "[encoded data removed]",
      "text/plain": [
       "<PIL.JpegImagePlugin.JpegImageFile image mode=L size=45x45 at 0x7FD7C5254710>"
      ]
     },
     "metadata": {},
     "output_type": "display_data"
    },
    {
     "name": "stdout",
     "output_type": "stream",
     "text": [
      "labels/1\n"
     ]
    },
    {
     "data": {
      "image/png": "[encoded data removed]",
      "text/plain": [
       "<PIL.JpegImagePlugin.JpegImageFile image mode=L size=45x45 at 0x7FD7C52544A8>"
      ]
     },
     "metadata": {},
     "output_type": "display_data"
    },
    {
     "name": "stdout",
     "output_type": "stream",
     "text": [
      "labels/]\n"
     ]
    },
    {
     "data": {
      "image/png": "[encoded data removed]",
      "text/plain": [
       "<PIL.JpegImagePlugin.JpegImageFile image mode=L size=45x45 at 0x7FD7C52541D0>"
      ]
     },
     "metadata": {},
     "output_type": "display_data"
    },
    {
     "name": "stdout",
     "output_type": "stream",
     "text": [
      "labels/2\n"
     ]
    },
    {
     "data": {
      "image/png": "[encoded data removed]",
      "text/plain": [
       "<PIL.JpegImagePlugin.JpegImageFile image mode=L size=45x45 at 0x7FD7C5254160>"
      ]
     },
     "metadata": {},
     "output_type": "display_data"
    },
    {
     "name": "stdout",
     "output_type": "stream",
     "text": [
      "labels/}\n"
     ]
    },
    {
     "data": {
      "image/png": "[encoded data removed]",
      "text/plain": [
       "<PIL.JpegImagePlugin.JpegImageFile image mode=L size=45x45 at 0x7FD7C5254208>"
      ]
     },
     "metadata": {},
     "output_type": "display_data"
    },
    {
     "name": "stdout",
     "output_type": "stream",
     "text": [
      "labels/+\n"
     ]
    },
    {
     "data": {
      "image/png": "[encoded data removed]",
      "text/plain": [
       "<PIL.JpegImagePlugin.JpegImageFile image mode=L size=45x45 at 0x7FD7C52540F0>"
      ]
     },
     "metadata": {},
     "output_type": "display_data"
    },
    {
     "name": "stdout",
     "output_type": "stream",
     "text": [
      "labels/0\n"
     ]
    },
    {
     "data": {
      "image/png": "[encoded data removed]",
      "text/plain": [
       "<PIL.JpegImagePlugin.JpegImageFile image mode=L size=45x45 at 0x7FD7C52541D0>"
      ]
     },
     "metadata": {},
     "output_type": "display_data"
    },
    {
     "name": "stdout",
     "output_type": "stream",
     "text": [
      "labels/8\n"
     ]
    },
    {
     "data": {
      "image/png": "[encoded data removed]",
      "text/plain": [
       "<PIL.JpegImagePlugin.JpegImageFile image mode=L size=45x45 at 0x7FD7C52544A8>"
      ]
     },
     "metadata": {},
     "output_type": "display_data"
    },
    {
     "name": "stdout",
     "output_type": "stream",
     "text": [
      "labels/,\n"
     ]
    },
    {
     "data": {
      "image/png": "[encoded data removed]",
      "text/plain": [
       "<PIL.JpegImagePlugin.JpegImageFile image mode=L size=45x45 at 0x7FD7C5254710>"
      ]
     },
     "metadata": {},
     "output_type": "display_data"
    },
    {
     "name": "stdout",
     "output_type": "stream",
     "text": [
      "labels/!\n"
     ]
    },
    {
     "data": {
      "image/png": "[encoded data removed]",
      "text/plain": [
       "<PIL.JpegImagePlugin.JpegImageFile image mode=L size=45x45 at 0x7FD7C5254160>"
      ]
     },
     "metadata": {},
     "output_type": "display_data"
    },
    {
     "name": "stdout",
     "output_type": "stream",
     "text": [
      "labels/5\n"
     ]
    },
    {
     "data": {
      "image/png": "[encoded data removed]",
      "text/plain": [
       "<PIL.JpegImagePlugin.JpegImageFile image mode=L size=45x45 at 0x7FD7C52541D0>"
      ]
     },
     "metadata": {},
     "output_type": "display_data"
    },
    {
     "name": "stdout",
     "output_type": "stream",
     "text": [
      "labels/4\n"
     ]
    },
    {
     "data": {
      "image/png": "[encoded data removed]",
      "text/plain": [
       "<PIL.JpegImagePlugin.JpegImageFile image mode=L size=45x45 at 0x7FD7C52540F0>"
      ]
     },
     "metadata": {},
     "output_type": "display_data"
    },
    {
     "name": "stdout",
     "output_type": "stream",
     "text": [
      "labels/)\n"
     ]
    },
    {
     "data": {
      "image/png": "[encoded data removed]",
      "text/plain": [
       "<PIL.JpegImagePlugin.JpegImageFile image mode=L size=45x45 at 0x7FD7C5254208>"
      ]
     },
     "metadata": {},
     "output_type": "display_data"
    },
    {
     "name": "stdout",
     "output_type": "stream",
     "text": [
      "labels/6\n"
     ]
    },
    {
     "data": {
      "image/png": "[encoded data removed]",
      "text/plain": [
       "<PIL.JpegImagePlugin.JpegImageFile image mode=L size=45x45 at 0x7FD7C52544A8>"
      ]
     },
     "metadata": {},
     "output_type": "display_data"
    },
    {
     "name": "stdout",
     "output_type": "stream",
     "text": [
      "labels/forward_slash\n"
     ]
    },
    {
     "data": {
      "image/png": "[encoded data removed]",
      "text/plain": [
       "<PIL.JpegImagePlugin.JpegImageFile image mode=L size=45x45 at 0x7FD7C5254710>"
      ]
     },
     "metadata": {},
     "output_type": "display_data"
    },
    {
     "name": "stdout",
     "output_type": "stream",
     "text": [
      "labels/7\n"
     ]
    },
    {
     "data": {
      "image/png": "[encoded data removed]",
      "text/plain": [
       "<PIL.JpegImagePlugin.JpegImageFile image mode=L size=45x45 at 0x7FD7C5254160>"
      ]
     },
     "metadata": {},
     "output_type": "display_data"
    },
    {
     "name": "stdout",
     "output_type": "stream",
     "text": [
      "labels/[\n"
     ]
    },
    {
     "data": {
      "image/png": "[encoded data removed]",
      "text/plain": [
       "<PIL.JpegImagePlugin.JpegImageFile image mode=L size=45x45 at 0x7FD7C52541D0>"
      ]
     },
     "metadata": {},
     "output_type": "display_data"
    },
    {
     "name": "stdout",
     "output_type": "stream",
     "text": [
      "labels/div\n"
     ]
    },
    {
     "data": {
      "image/png": "[encoded data removed]",
      "text/plain": [
       "<PIL.JpegImagePlugin.JpegImageFile image mode=L size=45x45 at 0x7FD7C52540F0>"
      ]
     },
     "metadata": {},
     "output_type": "display_data"
    },
    {
     "name": "stdout",
     "output_type": "stream",
     "text": [
      "labels/(\n"
     ]
    },
    {
     "data": {
      "image/png": "[encoded data removed]",
      "text/plain": [
       "<PIL.JpegImagePlugin.JpegImageFile image mode=L size=45x45 at 0x7FD7C52541D0>"
      ]
     },
     "metadata": {},
     "output_type": "display_data"
    }
   ],
   "source": [
    "disp_sample(\"dataset/labels\", 1)"
   ]
  },
  {
   "cell_type": "markdown",
   "metadata": {},
   "source": [
    "## Create fake dataset for object recognition\n",
    "Create a fake dataset of fixed sized images. "
   ]
  },
  {
   "cell_type": "code",
   "execution_count": 197,
   "metadata": {},
   "outputs": [],
   "source": [
    "def pick_random_samples(folders_path, max_sample_size, random_resize=False):\n",
    "    folders = random.sample(os.listdir(folders_path), 5)\n",
    "    images = []\n",
    "    for folder in folders:\n",
    "        folder_path = os.path.join(folders_path, folder)\n",
    "        image_files = os.listdir(folder_path)\n",
    "        if len(image_files) == 0:\n",
    "            continue\n",
    "        \n",
    "        sample_size = random.randint(1, max_sample_size)\n",
    "        image_samples = random.sample(image_files, sample_size)\n",
    "        for image in image_samples:\n",
    "            image_file = os.path.join(folders_path, os.path.join(folder, image))\n",
    "            i = Image.open(image_file)\n",
    "            if random_resize:\n",
    "                m = random.uniform(0.5, 1)\n",
    "                w, h = i.width, i.height,\n",
    "                i = i.resize((int(w * m), int(h * m)), Image.ANTIALIAS)\n",
    "            images.append((i, folder))\n",
    "            # display(i)\n",
    "    return images"
   ]
  },
  {
   "cell_type": "code",
   "execution_count": 201,
   "metadata": {},
   "outputs": [],
   "source": [
    "def create_one_composite_sample():\n",
    "\n",
    "    images_data = pick_random_samples(\"dataset/features\", max_sample_size=2, random_resize=True)\n",
    "    if len(images_data) > 0:\n",
    "        images, class_names = zip(*images_data)\n",
    "    else:\n",
    "        print(images_data)\n",
    "    \n",
    "    new_im = Image.new('RGB', (300, 300), color='white')\n",
    "    bboxes = []\n",
    "    labels = [] \n",
    "\n",
    "    def intersect(bbox1, bbox2):\n",
    "           return (abs(bbox1[\"x\"] - bbox2[\"x\"]) < abs(bbox1[\"w\"] + bbox2[\"w\"]) / 2) and (abs(bbox1[\"y\"] - bbox2[\"y\"]) < (abs(bbox1[\"h\"] + bbox2[\"h\"]) / 2))\n",
    "\n",
    "    for i in range(len(images)):\n",
    "        img = images[i]\n",
    "        pix = np.asarray(img)\n",
    "        idx = np.where(pix-255) # Drop the color when finding edges\n",
    "        crop_mask = list(map(min,idx))[::-1] + list(map(max,idx))[::-1]\n",
    "        img = img.crop(crop_mask)\n",
    "        \n",
    "        bbox_offset_px = 2\n",
    "        \n",
    "        min_x, max_x = img.width - bbox_offset_px, new_im.width - img.width - bbox_offset_px\n",
    "        min_y, max_y = img.height - bbox_offset_px, new_im.height - img.height - bbox_offset_px\n",
    "\n",
    "        x = random.randint(min_x, max_x)\n",
    "        y = random.randint(min_y, max_y)\n",
    "        bbox = {\n",
    "            \"x\": x - bbox_offset_px,\n",
    "            \"y\": y - bbox_offset_px,\n",
    "            \"w\": img.width + bbox_offset_px * 2,\n",
    "            \"h\": img.height + bbox_offset_px * 2\n",
    "        }\n",
    "        j = 0\n",
    "        hasCollision = False\n",
    "        while j < len(labels):\n",
    "            if j == i:\n",
    "                continue\n",
    "\n",
    "            if intersect(bbox, labels[j][\"bbox\"]):\n",
    "                x = random.randint(min_x, max_x)\n",
    "                y = random.randint(min_y, max_y)\n",
    "                bbox = {\n",
    "                    \"x\": x - bbox_offset_px,\n",
    "                    \"y\": y - bbox_offset_px,\n",
    "                    \"w\": img.width + bbox_offset_px * 2,\n",
    "                    \"h\": img.height + bbox_offset_px * 2\n",
    "                }\n",
    "                j = 0\n",
    "                continue\n",
    "            j += 1\n",
    "        labels.append({\n",
    "            \"class_name\": class_names[i],\n",
    "            \"bbox\": bbox\n",
    "        })\n",
    "        # bboxes.append(bbox)\n",
    "        \n",
    "        new_im.paste(img, (x, y))\n",
    "    return new_im, labels"
   ]
  },
  {
   "cell_type": "code",
   "execution_count": 206,
   "metadata": {},
   "outputs": [
    {
     "data": {
      "application/vnd.jupyter.widget-view+json": {
       "model_id": "363c63fa32ef4b1891a95417b0122163",
       "version_major": 2,
       "version_minor": 0
      },
      "text/html": [
       "<p>Failed to display Jupyter Widget of type <code>FigureCanvasNbAgg</code>.</p>\n",
       "<p>\n",
       "  If you're reading this message in the Jupyter Notebook or JupyterLab Notebook, it may mean\n",
       "  that the widgets JavaScript is still loading. If this message persists, it\n",
       "  likely means that the widgets JavaScript library is either not installed or\n",
       "  not enabled. See the <a href=\"https://ipywidgets.readthedocs.io/en/stable/user_install.html\">Jupyter\n",
       "  Widgets Documentation</a> for setup instructions.\n",
       "</p>\n",
       "<p>\n",
       "  If you're reading this message in another frontend (for example, a static\n",
       "  rendering on GitHub or <a href=\"https://nbviewer.jupyter.org/\">NBViewer</a>),\n",
       "  it may mean that your frontend doesn't currently support widgets.\n",
       "</p>\n"
      ],
      "text/plain": [
       "FigureCanvasNbAgg()"
      ]
     },
     "metadata": {},
     "output_type": "display_data"
    },
    {
     "name": "stdout",
     "output_type": "stream",
     "text": [
      "9 233 257 142 173\n",
      "{ 223 241 58 103\n",
      "1 193 218 147 189\n",
      "1 281 295 108 155\n",
      "8 248 272 274 299\n",
      "[ 165 199 224 269\n",
      "[ 62 81 152 183\n"
     ]
    }
   ],
   "source": [
    "img, labels = create_one_composite_sample()\n",
    "class_names = [l[\"class_name\"] for l in labels]\n",
    "bboxes = [l[\"bbox\"] for l in labels]\n",
    "\n",
    "fig = plt.figure()\n",
    "plt.imshow(img)\n",
    "[plt.gca().add_patch(Rectangle((label[\"bbox\"][\"x\"], label[\"bbox\"][\"y\"]), label[\"bbox\"][\"w\"], label[\"bbox\"][\"h\"], ec='r', fc='none')) for label in labels]\n",
    "[plt.gca().text(label[\"bbox\"][\"x\"], label[\"bbox\"][\"y\"], label[\"class_name\"]) for label in labels]\n",
    "img.save(\"./test\", \"png\")\n",
    "\n",
    "for label in labels:\n",
    "    print(\" \".join([label[\"class_name\"], \n",
    "                    str(label[\"bbox\"][\"x\"]), \n",
    "                    str(label[\"bbox\"][\"x\"] + label[\"bbox\"][\"w\"]), \n",
    "                    str(label[\"bbox\"][\"y\"]), \n",
    "                    str(label[\"bbox\"][\"y\"] + label[\"bbox\"][\"h\"])]))\n"
   ]
  },
  {
   "cell_type": "code",
   "execution_count": 212,
   "metadata": {},
   "outputs": [],
   "source": [
    "plt.close('all')"
   ]
  },
  {
   "cell_type": "code",
   "execution_count": 220,
   "metadata": {},
   "outputs": [],
   "source": [
    "def generate_composite_dataset(path, num_samples):\n",
    "    if os.path.isdir(path):\n",
    "        raise ValueError(\"Folder already exists\")\n",
    "    else:\n",
    "        features_path = os.path.join(path, \"features\")\n",
    "        labels_path = os.path.join(path, \"labels\")\n",
    "        os.mkdir(path)\n",
    "        os.mkdir(features_path)\n",
    "        os.mkdir(labels_path)\n",
    "        \n",
    "    for i in range(num_samples):\n",
    "        img, labels = create_one_composite_sample()\n",
    "        img.save(os.path.join(features_path, \"{}.png\".format(i)))\n",
    "           \n",
    "        strings = [\" \".join([label[\"class_name\"], \n",
    "                    str(label[\"bbox\"][\"x\"]), \n",
    "                    str(label[\"bbox\"][\"x\"] + label[\"bbox\"][\"w\"]), \n",
    "                    str(label[\"bbox\"][\"y\"]), \n",
    "                    str(label[\"bbox\"][\"y\"] + label[\"bbox\"][\"h\"])]) for label in labels]\n",
    "        \n",
    "        with open(os.path.join(labels_path, \"{}.txt\".format(i)), \"w\") as text_file:\n",
    "            text_file.write(\"\\n\".join(strings))"
   ]
  },
  {
   "cell_type": "code",
   "execution_count": 221,
   "metadata": {},
   "outputs": [],
   "source": [
    "generate_composite_dataset(\"fake_dataset\", 5)"
   ]
  },
  {
   "cell_type": "code",
   "execution_count": null,
   "metadata": {},
   "outputs": [],
   "source": []
  }
 ],
 "metadata": {
  "kernelspec": {
   "display_name": "Python 3",
   "language": "python",
   "name": "python3"
  },
  "language_info": {
   "codemirror_mode": {
    "name": "ipython",
    "version": 3
   },
   "file_extension": ".py",
   "mimetype": "text/x-python",
   "name": "python",
   "nbconvert_exporter": "python",
   "pygments_lexer": "ipython3",
   "version": "3.6.4"
  }
 },
 "nbformat": 4,
 "nbformat_minor": 2
}
