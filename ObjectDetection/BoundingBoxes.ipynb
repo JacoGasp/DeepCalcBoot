{
 "cells": [
  {
   "cell_type": "code",
   "execution_count": 1,
   "metadata": {},
   "outputs": [],
   "source": [
    "from __future__ import division\n",
    "import numpy as np\n",
    "import os\n",
    "import cv2\n",
    "from PIL import Image\n",
    "from IPython.display import display\n",
    "import glob\n",
    "import random\n",
    "from tqdm import tqdm_notebook as tqdm\n",
    "import matplotlib.pyplot as plt\n",
    "from matplotlib.patches import Rectangle\n",
    "%matplotlib ipympl"
   ]
  },
  {
   "cell_type": "code",
   "execution_count": 2,
   "metadata": {},
   "outputs": [],
   "source": [
    "root_path = \"/home/jacopo.gasparetto/Workspaces/DeepCalculatorBot/ObjectDetection/\"\n",
    "data_path = \"extracted_images\"\n",
    "dataset_dir =\"dataset\""
   ]
  },
  {
   "cell_type": "code",
   "execution_count": 3,
   "metadata": {},
   "outputs": [],
   "source": [
    "def generate_datasets(data_dir, out_folder, symbols_required):\n",
    "    \"\"\"\n",
    "    Divide features and label in two different datasets\n",
    "    \"\"\"\n",
    "    from shutil import copyfile\n",
    "    \n",
    "    if os.path.isdir(out_folder):\n",
    "        raise ValueError(\"dataset folder already present.\")\n",
    "        \n",
    "    else:\n",
    "        features_dir = os.path.join(out_folder, \"features\")\n",
    "        labels_dir = os.path.join(out_folder, \"labels\")\n",
    "        \n",
    "        # Make base folder structure\n",
    "        os.mkdir(out_folder)\n",
    "        os.mkdir(features_dir)\n",
    "        os.mkdir(labels_dir)\n",
    "    \n",
    "    # Get symbols class names\n",
    "    if symbols_required:\n",
    "        data_folders = symbols_required\n",
    "    else:\n",
    "        data_folders = os.listdir(data_dir)\n",
    "    \n",
    "   # Iterate over each class \n",
    "    for folder in tqdm(data_folders):\n",
    "        \n",
    "        if folder== \".\":\n",
    "                continue\n",
    "        \n",
    "        symbols = os.listdir(os.path.join(data_dir, folder))\n",
    "        print(\"Copying\", folder, \" counts:\", len(symbols))\n",
    "        os.mkdir(os.path.join(features_dir, folder))\n",
    "        os.mkdir(os.path.join(labels_dir, folder))\n",
    "        for symbol in symbols:\n",
    "            if symbol[0]== \".\":\n",
    "                continue\n",
    "            old_path = os.path.join(data_dir, os.path.join(folder, symbol))\n",
    "            if \"_\" in symbol:\n",
    "                new_path = os.path.join(labels_dir, os.path.join(folder, symbol))\n",
    "            else:\n",
    "                new_path = os.path.join(features_dir, os.path.join(folder, symbol))\n",
    "            copyfile(old_path, new_path)"
   ]
  },
  {
   "cell_type": "code",
   "execution_count": 5,
   "metadata": {},
   "outputs": [
    {
     "data": {
      "application/vnd.jupyter.widget-view+json": {
       "model_id": "e88197166e844516af17f088abf357e6",
       "version_major": 2,
       "version_minor": 0
      },
      "text/plain": [
       "HBox(children=(IntProgress(value=0, max=23), HTML(value='')))"
      ]
     },
     "metadata": {},
     "output_type": "display_data"
    },
    {
     "name": "stdout",
     "output_type": "stream",
     "text": [
      "Copying 0  counts: 6914\n",
      "Copying 1  counts: 26520\n",
      "Copying 2  counts: 26141\n",
      "Copying 3  counts: 10909\n",
      "Copying 4  counts: 7396\n",
      "Copying 5  counts: 3545\n",
      "Copying 6  counts: 3118\n",
      "Copying 7  counts: 2909\n",
      "Copying 8  counts: 3068\n",
      "Copying 9  counts: 3737\n",
      "Copying +  counts: 25112\n",
      "Copying -  counts: 33997\n",
      "Copying times  counts: 3251\n",
      "Copying div  counts: 868\n",
      "Copying forward_slash  counts: 199\n",
      "Copying (  counts: 14294\n",
      "Copying )  counts: 14355\n",
      "Copying [  counts: 778\n",
      "Copying ]  counts: 780\n",
      "Copying {  counts: 376\n",
      "Copying }  counts: 377\n",
      "Copying !  counts: 1300\n",
      "Copying ,  counts: 1906\n",
      "\n"
     ]
    }
   ],
   "source": [
    "symbols=[\"0\", \"1\", \"2\", \"3\", \"4\", \"5\", \"6\", \"7\", \"8\", \"9\", \"+\", \"-\", \"times\", \"div\", \"forward_slash\", \"(\", \")\", \"[\", \"]\",\n",
    "         \"{\", \"}\", \"!\", \",\"]\n",
    "generate_datasets(\"extracted_images\", dataset_dir, symbols)"
   ]
  },
  {
   "cell_type": "code",
   "execution_count": 6,
   "metadata": {},
   "outputs": [],
   "source": [
    "def disp_sample(folders_path, sample_size):\n",
    "    basename = os.path.basename(folders_path)\n",
    "    folders = os.listdir(folders_path)\n",
    "    for folder in folders:\n",
    "        if folder.startswith(\".\"):\n",
    "            continue\n",
    "        print(\"{}/{}\".format(basename, folder))\n",
    "        folder_path = os.path.join(folders_path, folder)\n",
    "        image_files = os.listdir(folder_path)\n",
    "        if len(image_files) == 0:\n",
    "            continue\n",
    "        image_samples = random.sample(image_files, sample_size)\n",
    "        for image in image_samples:\n",
    "            image_file = os.path.join(folders_path, os.path.join(folder, image))\n",
    "            i = Image.open(image_file)\n",
    "            display(i)"
   ]
  },
  {
   "cell_type": "code",
   "execution_count": 7,
   "metadata": {},
   "outputs": [
    {
     "name": "stdout",
     "output_type": "stream",
     "text": [
      "features/0\n"
     ]
    },
    {
     "data": {
      "image/png": "[encoded data removed]",
      "text/plain": [
       "<PIL.JpegImagePlugin.JpegImageFile image mode=L size=45x45 at 0x7FC18C3527F0>"
      ]
     },
     "metadata": {},
     "output_type": "display_data"
    },
    {
     "name": "stdout",
     "output_type": "stream",
     "text": [
      "features/1\n"
     ]
    },
    {
     "data": {
      "image/png": "[encoded data removed]",
      "text/plain": [
       "<PIL.JpegImagePlugin.JpegImageFile image mode=L size=45x45 at 0x7FC15F141F98>"
      ]
     },
     "metadata": {},
     "output_type": "display_data"
    },
    {
     "name": "stdout",
     "output_type": "stream",
     "text": [
      "features/2\n"
     ]
    },
    {
     "data": {
      "image/png": "[encoded data removed]",
      "text/plain": [
       "<PIL.JpegImagePlugin.JpegImageFile image mode=L size=45x45 at 0x7FC15F141E10>"
      ]
     },
     "metadata": {},
     "output_type": "display_data"
    },
    {
     "name": "stdout",
     "output_type": "stream",
     "text": [
      "features/3\n"
     ]
    },
    {
     "data": {
      "image/png": "[encoded data removed]",
      "text/plain": [
       "<PIL.JpegImagePlugin.JpegImageFile image mode=L size=45x45 at 0x7FC15F141E80>"
      ]
     },
     "metadata": {},
     "output_type": "display_data"
    },
    {
     "name": "stdout",
     "output_type": "stream",
     "text": [
      "features/4\n"
     ]
    },
    {
     "data": {
      "image/png": "[encoded data removed]",
      "text/plain": [
       "<PIL.JpegImagePlugin.JpegImageFile image mode=L size=45x45 at 0x7FC15F141FD0>"
      ]
     },
     "metadata": {},
     "output_type": "display_data"
    },
    {
     "name": "stdout",
     "output_type": "stream",
     "text": [
      "features/5\n"
     ]
    },
    {
     "data": {
      "image/png": "[encoded data removed]",
      "text/plain": [
       "<PIL.JpegImagePlugin.JpegImageFile image mode=L size=45x45 at 0x7FC15F141EF0>"
      ]
     },
     "metadata": {},
     "output_type": "display_data"
    },
    {
     "name": "stdout",
     "output_type": "stream",
     "text": [
      "features/6\n"
     ]
    },
    {
     "data": {
      "image/png": "[encoded data removed]",
      "text/plain": [
       "<PIL.JpegImagePlugin.JpegImageFile image mode=L size=45x45 at 0x7FC15F141FD0>"
      ]
     },
     "metadata": {},
     "output_type": "display_data"
    },
    {
     "name": "stdout",
     "output_type": "stream",
     "text": [
      "features/7\n"
     ]
    },
    {
     "data": {
      "image/png": "[encoded data removed]",
      "text/plain": [
       "<PIL.JpegImagePlugin.JpegImageFile image mode=L size=45x45 at 0x7FC15F141E80>"
      ]
     },
     "metadata": {},
     "output_type": "display_data"
    },
    {
     "name": "stdout",
     "output_type": "stream",
     "text": [
      "features/8\n"
     ]
    },
    {
     "data": {
      "image/png": "[encoded data removed]",
      "text/plain": [
       "<PIL.JpegImagePlugin.JpegImageFile image mode=L size=45x45 at 0x7FC15F141EF0>"
      ]
     },
     "metadata": {},
     "output_type": "display_data"
    },
    {
     "name": "stdout",
     "output_type": "stream",
     "text": [
      "features/9\n"
     ]
    },
    {
     "data": {
      "image/png": "[encoded data removed]",
      "text/plain": [
       "<PIL.JpegImagePlugin.JpegImageFile image mode=L size=45x45 at 0x7FC15F141E10>"
      ]
     },
     "metadata": {},
     "output_type": "display_data"
    },
    {
     "name": "stdout",
     "output_type": "stream",
     "text": [
      "features/+\n"
     ]
    },
    {
     "data": {
      "image/png": "[encoded data removed]",
      "text/plain": [
       "<PIL.JpegImagePlugin.JpegImageFile image mode=L size=45x45 at 0x7FC15F141E80>"
      ]
     },
     "metadata": {},
     "output_type": "display_data"
    },
    {
     "name": "stdout",
     "output_type": "stream",
     "text": [
      "features/-\n"
     ]
    },
    {
     "data": {
      "image/png": "[encoded data removed]",
      "text/plain": [
       "<PIL.JpegImagePlugin.JpegImageFile image mode=L size=45x45 at 0x7FC15F141FD0>"
      ]
     },
     "metadata": {},
     "output_type": "display_data"
    },
    {
     "name": "stdout",
     "output_type": "stream",
     "text": [
      "features/times\n"
     ]
    },
    {
     "data": {
      "image/png": "[encoded data removed]",
      "text/plain": [
       "<PIL.JpegImagePlugin.JpegImageFile image mode=L size=45x45 at 0x7FC15F141E10>"
      ]
     },
     "metadata": {},
     "output_type": "display_data"
    },
    {
     "name": "stdout",
     "output_type": "stream",
     "text": [
      "features/div\n"
     ]
    },
    {
     "data": {
      "image/png": "[encoded data removed]",
      "text/plain": [
       "<PIL.JpegImagePlugin.JpegImageFile image mode=L size=45x45 at 0x7FC15F141EF0>"
      ]
     },
     "metadata": {},
     "output_type": "display_data"
    },
    {
     "name": "stdout",
     "output_type": "stream",
     "text": [
      "features/forward_slash\n",
      "features/(\n"
     ]
    },
    {
     "data": {
      "image/png": "[encoded data removed]",
      "text/plain": [
       "<PIL.JpegImagePlugin.JpegImageFile image mode=L size=45x45 at 0x7FC15F1560B8>"
      ]
     },
     "metadata": {},
     "output_type": "display_data"
    },
    {
     "name": "stdout",
     "output_type": "stream",
     "text": [
      "features/)\n"
     ]
    },
    {
     "data": {
      "image/png": "[encoded data removed]",
      "text/plain": [
       "<PIL.JpegImagePlugin.JpegImageFile image mode=L size=45x45 at 0x7FC15F141E80>"
      ]
     },
     "metadata": {},
     "output_type": "display_data"
    },
    {
     "name": "stdout",
     "output_type": "stream",
     "text": [
      "features/[\n"
     ]
    },
    {
     "data": {
      "image/png": "[encoded data removed]",
      "text/plain": [
       "<PIL.JpegImagePlugin.JpegImageFile image mode=L size=45x45 at 0x7FC15F141FD0>"
      ]
     },
     "metadata": {},
     "output_type": "display_data"
    },
    {
     "name": "stdout",
     "output_type": "stream",
     "text": [
      "features/]\n"
     ]
    },
    {
     "data": {
      "image/png": "[encoded data removed]",
      "text/plain": [
       "<PIL.JpegImagePlugin.JpegImageFile image mode=L size=45x45 at 0x7FC15F141E10>"
      ]
     },
     "metadata": {},
     "output_type": "display_data"
    },
    {
     "name": "stdout",
     "output_type": "stream",
     "text": [
      "features/{\n"
     ]
    },
    {
     "data": {
      "image/png": "[encoded data removed]",
      "text/plain": [
       "<PIL.JpegImagePlugin.JpegImageFile image mode=L size=45x45 at 0x7FC15F141E80>"
      ]
     },
     "metadata": {},
     "output_type": "display_data"
    },
    {
     "name": "stdout",
     "output_type": "stream",
     "text": [
      "features/}\n"
     ]
    },
    {
     "data": {
      "image/png": "[encoded data removed]",
      "text/plain": [
       "<PIL.JpegImagePlugin.JpegImageFile image mode=L size=45x45 at 0x7FC15F141EF0>"
      ]
     },
     "metadata": {},
     "output_type": "display_data"
    },
    {
     "name": "stdout",
     "output_type": "stream",
     "text": [
      "features/!\n"
     ]
    },
    {
     "data": {
      "image/png": "[encoded data removed]",
      "text/plain": [
       "<PIL.JpegImagePlugin.JpegImageFile image mode=L size=45x45 at 0x7FC15F141E10>"
      ]
     },
     "metadata": {},
     "output_type": "display_data"
    },
    {
     "name": "stdout",
     "output_type": "stream",
     "text": [
      "features/,\n"
     ]
    },
    {
     "data": {
      "image/png": "[encoded data removed]",
      "text/plain": [
       "<PIL.JpegImagePlugin.JpegImageFile image mode=L size=45x45 at 0x7FC15F141FD0>"
      ]
     },
     "metadata": {},
     "output_type": "display_data"
    }
   ],
   "source": [
    "disp_sample(\"dataset/features\", 1)"
   ]
  },
  {
   "cell_type": "code",
   "execution_count": 80,
   "metadata": {},
   "outputs": [
    {
     "name": "stdout",
     "output_type": "stream",
     "text": [
      "labels/{\n"
     ]
    },
    {
     "data": {
      "image/png": "[encoded data removed]",
      "text/plain": [
       "<PIL.JpegImagePlugin.JpegImageFile image mode=L size=45x45 at 0x7FD7C5254208>"
      ]
     },
     "metadata": {},
     "output_type": "display_data"
    },
    {
     "name": "stdout",
     "output_type": "stream",
     "text": [
      "labels/3\n"
     ]
    },
    {
     "data": {
      "image/png": "[encoded data removed]",
      "text/plain": [
       "<PIL.JpegImagePlugin.JpegImageFile image mode=L size=45x45 at 0x7FD7C52544A8>"
      ]
     },
     "metadata": {},
     "output_type": "display_data"
    },
    {
     "name": "stdout",
     "output_type": "stream",
     "text": [
      "labels/-\n"
     ]
    },
    {
     "data": {
      "image/png": "[encoded data removed]",
      "text/plain": [
       "<PIL.JpegImagePlugin.JpegImageFile image mode=L size=45x45 at 0x7FD7C52546A0>"
      ]
     },
     "metadata": {},
     "output_type": "display_data"
    },
    {
     "name": "stdout",
     "output_type": "stream",
     "text": [
      "labels/times\n"
     ]
    },
    {
     "data": {
      "image/png": "[encoded data removed]",
      "text/plain": [
       "<PIL.JpegImagePlugin.JpegImageFile image mode=L size=45x45 at 0x7FD7C5254160>"
      ]
     },
     "metadata": {},
     "output_type": "display_data"
    },
    {
     "name": "stdout",
     "output_type": "stream",
     "text": [
      "labels/9\n"
     ]
    },
    {
     "data": {
      "image/png": "[encoded data removed]",
      "text/plain": [
       "<PIL.JpegImagePlugin.JpegImageFile image mode=L size=45x45 at 0x7FD7C5254710>"
      ]
     },
     "metadata": {},
     "output_type": "display_data"
    },
    {
     "name": "stdout",
     "output_type": "stream",
     "text": [
      "labels/1\n"
     ]
    },
    {
     "data": {
      "image/png": "[encoded data removed]",
      "text/plain": [
       "<PIL.JpegImagePlugin.JpegImageFile image mode=L size=45x45 at 0x7FD7C52544A8>"
      ]
     },
     "metadata": {},
     "output_type": "display_data"
    },
    {
     "name": "stdout",
     "output_type": "stream",
     "text": [
      "labels/]\n"
     ]
    },
    {
     "data": {
      "image/png": "[encoded data removed]",
      "text/plain": [
       "<PIL.JpegImagePlugin.JpegImageFile image mode=L size=45x45 at 0x7FD7C52541D0>"
      ]
     },
     "metadata": {},
     "output_type": "display_data"
    },
    {
     "name": "stdout",
     "output_type": "stream",
     "text": [
      "labels/2\n"
     ]
    },
    {
     "data": {
      "image/png": "[encoded data removed]",
      "text/plain": [
       "<PIL.JpegImagePlugin.JpegImageFile image mode=L size=45x45 at 0x7FD7C5254160>"
      ]
     },
     "metadata": {},
     "output_type": "display_data"
    },
    {
     "name": "stdout",
     "output_type": "stream",
     "text": [
      "labels/}\n"
     ]
    },
    {
     "data": {
      "image/png": "[encoded data removed]",
      "text/plain": [
       "<PIL.JpegImagePlugin.JpegImageFile image mode=L size=45x45 at 0x7FD7C5254208>"
      ]
     },
     "metadata": {},
     "output_type": "display_data"
    },
    {
     "name": "stdout",
     "output_type": "stream",
     "text": [
      "labels/+\n"
     ]
    },
    {
     "data": {
      "image/png": "[encoded data removed]",
      "text/plain": [
       "<PIL.JpegImagePlugin.JpegImageFile image mode=L size=45x45 at 0x7FD7C52540F0>"
      ]
     },
     "metadata": {},
     "output_type": "display_data"
    },
    {
     "name": "stdout",
     "output_type": "stream",
     "text": [
      "labels/0\n"
     ]
    },
    {
     "data": {
      "image/png": "[encoded data removed]",
      "text/plain": [
       "<PIL.JpegImagePlugin.JpegImageFile image mode=L size=45x45 at 0x7FD7C52541D0>"
      ]
     },
     "metadata": {},
     "output_type": "display_data"
    },
    {
     "name": "stdout",
     "output_type": "stream",
     "text": [
      "labels/8\n"
     ]
    },
    {
     "data": {
      "image/png": "[encoded data removed]",
      "text/plain": [
       "<PIL.JpegImagePlugin.JpegImageFile image mode=L size=45x45 at 0x7FD7C52544A8>"
      ]
     },
     "metadata": {},
     "output_type": "display_data"
    },
    {
     "name": "stdout",
     "output_type": "stream",
     "text": [
      "labels/,\n"
     ]
    },
    {
     "data": {
      "image/png": "[encoded data removed]",
      "text/plain": [
       "<PIL.JpegImagePlugin.JpegImageFile image mode=L size=45x45 at 0x7FD7C5254710>"
      ]
     },
     "metadata": {},
     "output_type": "display_data"
    },
    {
     "name": "stdout",
     "output_type": "stream",
     "text": [
      "labels/!\n"
     ]
    },
    {
     "data": {
      "image/png": "[encoded data removed]",
      "text/plain": [
       "<PIL.JpegImagePlugin.JpegImageFile image mode=L size=45x45 at 0x7FD7C5254160>"
      ]
     },
     "metadata": {},
     "output_type": "display_data"
    },
    {
     "name": "stdout",
     "output_type": "stream",
     "text": [
      "labels/5\n"
     ]
    },
    {
     "data": {
      "image/png": "[encoded data removed]",
      "text/plain": [
       "<PIL.JpegImagePlugin.JpegImageFile image mode=L size=45x45 at 0x7FD7C52541D0>"
      ]
     },
     "metadata": {},
     "output_type": "display_data"
    },
    {
     "name": "stdout",
     "output_type": "stream",
     "text": [
      "labels/4\n"
     ]
    },
    {
     "data": {
      "image/png": "[encoded data removed]",
      "text/plain": [
       "<PIL.JpegImagePlugin.JpegImageFile image mode=L size=45x45 at 0x7FD7C52540F0>"
      ]
     },
     "metadata": {},
     "output_type": "display_data"
    },
    {
     "name": "stdout",
     "output_type": "stream",
     "text": [
      "labels/)\n"
     ]
    },
    {
     "data": {
      "image/png": "[encoded data removed]",
      "text/plain": [
       "<PIL.JpegImagePlugin.JpegImageFile image mode=L size=45x45 at 0x7FD7C5254208>"
      ]
     },
     "metadata": {},
     "output_type": "display_data"
    },
    {
     "name": "stdout",
     "output_type": "stream",
     "text": [
      "labels/6\n"
     ]
    },
    {
     "data": {
      "image/png": "[encoded data removed]",
      "text/plain": [
       "<PIL.JpegImagePlugin.JpegImageFile image mode=L size=45x45 at 0x7FD7C52544A8>"
      ]
     },
     "metadata": {},
     "output_type": "display_data"
    },
    {
     "name": "stdout",
     "output_type": "stream",
     "text": [
      "labels/forward_slash\n"
     ]
    },
    {
     "data": {
      "image/png": "[encoded data removed]",
      "text/plain": [
       "<PIL.JpegImagePlugin.JpegImageFile image mode=L size=45x45 at 0x7FD7C5254710>"
      ]
     },
     "metadata": {},
     "output_type": "display_data"
    },
    {
     "name": "stdout",
     "output_type": "stream",
     "text": [
      "labels/7\n"
     ]
    },
    {
     "data": {
      "image/png": "[encoded data removed]",
      "text/plain": [
       "<PIL.JpegImagePlugin.JpegImageFile image mode=L size=45x45 at 0x7FD7C5254160>"
      ]
     },
     "metadata": {},
     "output_type": "display_data"
    },
    {
     "name": "stdout",
     "output_type": "stream",
     "text": [
      "labels/[\n"
     ]
    },
    {
     "data": {
      "image/png": "[encoded data removed]",
      "text/plain": [
       "<PIL.JpegImagePlugin.JpegImageFile image mode=L size=45x45 at 0x7FD7C52541D0>"
      ]
     },
     "metadata": {},
     "output_type": "display_data"
    },
    {
     "name": "stdout",
     "output_type": "stream",
     "text": [
      "labels/div\n"
     ]
    },
    {
     "data": {
      "image/png": "[encoded data removed]",
      "text/plain": [
       "<PIL.JpegImagePlugin.JpegImageFile image mode=L size=45x45 at 0x7FD7C52540F0>"
      ]
     },
     "metadata": {},
     "output_type": "display_data"
    },
    {
     "name": "stdout",
     "output_type": "stream",
     "text": [
      "labels/(\n"
     ]
    },
    {
     "data": {
      "image/png": "[encoded data removed]",
      "text/plain": [
       "<PIL.JpegImagePlugin.JpegImageFile image mode=L size=45x45 at 0x7FD7C52541D0>"
      ]
     },
     "metadata": {},
     "output_type": "display_data"
    }
   ],
   "source": [
    "disp_sample(\"dataset/labels\", 1)"
   ]
  },
  {
   "cell_type": "markdown",
   "metadata": {},
   "source": [
    "## Create fake dataset for object recognition\n",
    "Create a fake dataset of fixed sized images. "
   ]
  },
  {
   "cell_type": "code",
   "execution_count": 3,
   "metadata": {},
   "outputs": [],
   "source": [
    "def pick_random_samples(folders_path, max_sample_size, random_resize=False, crop=False):\n",
    "    rand = random.randint(3, 8)\n",
    "    folders = random.sample(os.listdir(folders_path), rand)\n",
    "    images = []\n",
    "    for folder in folders:\n",
    "        folder_path = os.path.join(folders_path, folder)\n",
    "        image_files = os.listdir(folder_path)\n",
    "        if len(image_files) == 0:\n",
    "            continue\n",
    "        \n",
    "        sample_size = random.randint(1, max_sample_size)\n",
    "        image_samples = random.sample(image_files, sample_size)\n",
    "        for image in image_samples:\n",
    "            image_file = os.path.join(folders_path, os.path.join(folder, image))\n",
    "            \n",
    "            i = cv2.imread(image_file)\n",
    "            i = cv2.cvtColor(i, cv2.COLOR_BGR2GRAY) # convert to grayscale\n",
    "             # threshold\n",
    "            _, i = cv2.threshold(i, thresh=100, maxval=255, type=cv2.THRESH_BINARY)\n",
    "            i = cv2.erode(i, np.ones((2, 2), np.uint8))\n",
    "            i = cv2.blur(i, (2,2))\n",
    "\n",
    "            if random_resize:\n",
    "                    m = random.uniform(1, 2)\n",
    "                    w, h = i[0], i[1],\n",
    "                    i = cv2.resize(i, None, fx=m, fy=m)\n",
    "        \n",
    "            if crop:\n",
    "                points = np.argwhere(i==0)    # find where the black pixels are\n",
    "                points = np.fliplr(points)              # store them in x,y coordinates instead of row,col indices\n",
    "                x, y, w, h = cv2.boundingRect(points)   # create a rectangle around those points\n",
    "                i = i[y:y+h+2, x:x+w+2]               # create a cropped region of the gray image\n",
    "                # _, i = cv2.threshold(cropped, thresh=200, maxval=255, type=cv2.THRESH_BINARY) # get the thresholded crop\n",
    "                \n",
    "            images.append((i, folder))\n",
    "    return images"
   ]
  },
  {
   "cell_type": "code",
   "execution_count": 11,
   "metadata": {},
   "outputs": [],
   "source": [
    "def create_one_composite_sample(width, height):\n",
    "\n",
    "    images_data = pick_random_samples(\"dataset/features\", max_sample_size=1, random_resize=False, crop=True)\n",
    "    if len(images_data) > 0:\n",
    "        images, class_names = zip(*images_data)\n",
    "    else:\n",
    "        print(images_data)\n",
    "    \n",
    "    new_im = np.full((width, height), 255)\n",
    "    bboxes = []\n",
    "    labels = [] \n",
    "\n",
    "    def intersect(bbox1, bbox2):\n",
    "           return (abs(bbox1[\"x\"] - bbox2[\"x\"]) < abs(bbox1[\"w\"] + bbox2[\"w\"]) / 2) and (abs(bbox1[\"y\"] - bbox2[\"y\"]) < (abs(bbox1[\"h\"] + bbox2[\"h\"]) / 2))\n",
    "\n",
    "    for i in range(len(images)):\n",
    "        img = images[i]\n",
    "        _, _, w, h = cv2.boundingRect(img)\n",
    "        bbox_offset_px = 2\n",
    "        \n",
    "        min_x, max_x = w - bbox_offset_px, width - w - bbox_offset_px\n",
    "        min_y, max_y = h - bbox_offset_px, height - h - bbox_offset_px\n",
    "\n",
    "        x = random.randint(min_x, max_x)\n",
    "        y = random.randint(min_y, max_y)\n",
    "        bbox = {\n",
    "            \"x\": x - bbox_offset_px,\n",
    "            \"y\": y - bbox_offset_px,\n",
    "            \"w\": w + bbox_offset_px,\n",
    "            \"h\": h + bbox_offset_px\n",
    "        }\n",
    "        j = 0\n",
    "        hasCollision = False\n",
    "        while j < len(labels):\n",
    "            if j == i:\n",
    "                continue\n",
    "\n",
    "            if intersect(bbox, labels[j][\"bbox\"]):\n",
    "                x = random.randint(min_x, max_x)\n",
    "                y = random.randint(min_y, max_y)\n",
    "                bbox = {\n",
    "                    \"x\": x - bbox_offset_px,\n",
    "                    \"y\": y - bbox_offset_px,\n",
    "                    \"w\": w + bbox_offset_px,\n",
    "                    \"h\": h + bbox_offset_px\n",
    "                }\n",
    "                j = 0\n",
    "                continue\n",
    "            j += 1\n",
    "        labels.append({\n",
    "            \"class_name\": class_names[i],\n",
    "            \"bbox\": bbox\n",
    "        })\n",
    "        \n",
    "        new_im[y:y+img.shape[0], x:x+img.shape[1]] = img\n",
    "\n",
    "    return new_im, labels"
   ]
  },
  {
   "cell_type": "code",
   "execution_count": 6,
   "metadata": {},
   "outputs": [
    {
     "name": "stdout",
     "output_type": "stream",
     "text": [
      "( 326 352 71 118\n",
      "6 312 343 155 202\n",
      "3 356 390 95 142\n",
      "+ 160 202 44 91\n",
      "1 285 308 43 90\n",
      "div 77 124 308 348\n"
     ]
    },
    {
     "data": {
      "image/png": "[encoded data removed]",
      "text/plain": [
       "<Figure size 360x360 with 1 Axes>"
      ]
     },
     "metadata": {},
     "output_type": "display_data"
    }
   ],
   "source": [
    "img, labels = create_one_composite_sample(416, 416)\n",
    "class_names = [l[\"class_name\"] for l in labels]\n",
    "bboxes = [l[\"bbox\"] for l in labels]\n",
    "\n",
    "fig = plt.figure(figsize=(5, 5))\n",
    "plt.imshow(img, cmap=plt.cm.gray)\n",
    "[plt.gca().add_patch(Rectangle((label[\"bbox\"][\"x\"], label[\"bbox\"][\"y\"]), label[\"bbox\"][\"w\"], label[\"bbox\"][\"h\"], ec='r', fc='none')) for label in labels]\n",
    "[plt.gca().text(label[\"bbox\"][\"x\"], label[\"bbox\"][\"y\"], label[\"class_name\"]) for label in labels]\n",
    "cv2.imwrite(\"test_img.png\", img)\n",
    "\n",
    "for label in labels:\n",
    "    print(\" \".join([label[\"class_name\"], \n",
    "                    str(label[\"bbox\"][\"x\"]), \n",
    "                    str(label[\"bbox\"][\"x\"] + label[\"bbox\"][\"w\"]), \n",
    "                    str(label[\"bbox\"][\"y\"]), \n",
    "                    str(label[\"bbox\"][\"y\"] + label[\"bbox\"][\"h\"])]))\n"
   ]
  },
  {
   "cell_type": "code",
   "execution_count": 8,
   "metadata": {},
   "outputs": [],
   "source": [
    "def generate_composite_dataset(path, num_samples):\n",
    "    if os.path.isdir(path):\n",
    "        raise ValueError(\"Folder already exists\")\n",
    "    else:\n",
    "        features_path = os.path.join(path, \"features\")\n",
    "        labels_path = os.path.join(path, \"labels\")\n",
    "        os.mkdir(path)\n",
    "        os.mkdir(features_path)\n",
    "        os.mkdir(labels_path)\n",
    "        \n",
    "    for i in range(num_samples):\n",
    "        img, labels = create_one_composite_sample()\n",
    "        img.save(os.path.join(features_path, \"{}.png\".format(i)))\n",
    "           \n",
    "        strings = [\" \".join([label[\"class_name\"], \n",
    "                    str(label[\"bbox\"][\"x\"]), \n",
    "                    str(label[\"bbox\"][\"x\"] + label[\"bbox\"][\"w\"]), \n",
    "                    str(label[\"bbox\"][\"y\"]), \n",
    "                    str(label[\"bbox\"][\"y\"] + label[\"bbox\"][\"h\"])]) for label in labels]\n",
    "        \n",
    "        with open(os.path.join(labels_path, \"{}.txt\".format(i)), \"w\") as text_file:\n",
    "            text_file.write(\"\\n\".join(strings))"
   ]
  },
  {
   "cell_type": "code",
   "execution_count": 9,
   "metadata": {},
   "outputs": [],
   "source": [
    "generate_composite_dataset(\"fake_dataset\", 100)"
   ]
  },
  {
   "cell_type": "code",
   "execution_count": 8,
   "metadata": {},
   "outputs": [],
   "source": [
    "def generate_xml_annotations(path, num_samples, width=416, height=416, overwrite=False):\n",
    "    import xml.etree.ElementTree as ET\n",
    "    import shutil\n",
    "\n",
    "    path = os.path.abspath(path)\n",
    "    labels_path = os.path.join(path, \"labels\")\n",
    "    features_path = os.path.join(path, \"features\")\n",
    "    \n",
    "    if os.path.isdir(path) and not overwrite:\n",
    "        raise ValueError(\"Folder already exists\")\n",
    "    else:\n",
    "        if os.path.isdir(path):\n",
    "            shutil.rmtree(path)\n",
    "        os.mkdir(path)\n",
    "        os.mkdir(labels_path)\n",
    "        os.mkdir(features_path)\n",
    "        \n",
    "        for i in tqdm(range(num_samples)):\n",
    "            img, labels = create_one_composite_sample(width, height)\n",
    "            png_name = \"{}.png\".format(i)\n",
    "            txt_name = \"{}.txt\".format(i)\n",
    "            cv2.imwrite(os.path.join(features_path, png_name), img)\n",
    "            \n",
    "            annotation = ET.Element(\"annotation\")\n",
    "            ET.SubElement(annotation, \"folder\").text = features_path\n",
    "            ET.SubElement(annotation, \"filename\").text = png_name\n",
    "            ET.SubElement(annotation, \"path\").text = os.path.join(features_path, png_name)\n",
    "            ET.SubElement(annotation, \"source\").text = \"Unknown\"\n",
    "\n",
    "            size = ET.SubElement(annotation, \"size\")\n",
    "            ET.SubElement(size, \"width\").text = \"{}\".format(width)\n",
    "            ET.SubElement(size, \"height\").text = \"{}\".format(height)\n",
    "            ET.SubElement(size, \"depth\").text = \"3\"\n",
    "            \n",
    "            ET.SubElement(annotation, \"segmented\").text = \"0\"\n",
    "            \n",
    "            for label in labels:\n",
    "                obj = ET.SubElement(annotation, \"object\")\n",
    "                ET.SubElement(obj, \"name\").text = label[\"class_name\"]\n",
    "                ET.SubElement(obj, \"pose\").text = \"Unspecified\"\n",
    "                ET.SubElement(obj, \"truncated\").text = \"0\"\n",
    "                ET.SubElement(obj, \"difficult\").text = \"0\"\n",
    "                ET.SubElement(obj, \"occluded\").text = \"0\"\n",
    "                \n",
    "                bndbox = ET.SubElement(obj, \"bndbox\")\n",
    "                ET.SubElement(bndbox, \"xmin\").text = str(label[\"bbox\"][\"x\"])\n",
    "                ET.SubElement(bndbox, \"xmax\").text = str(label[\"bbox\"][\"x\"] + label[\"bbox\"][\"w\"])\n",
    "                ET.SubElement(bndbox, \"ymin\").text = str(label[\"bbox\"][\"y\"])\n",
    "                ET.SubElement(bndbox, \"ymax\").text = str(label[\"bbox\"][\"y\"] +label[\"bbox\"][\"h\"])\n",
    "            \n",
    "            tree = ET.ElementTree(annotation)\n",
    "            tree.write(os.path.join(labels_path, txt_name))\n",
    "            "
   ]
  },
  {
   "cell_type": "code",
   "execution_count": 13,
   "metadata": {},
   "outputs": [
    {
     "data": {
      "application/vnd.jupyter.widget-view+json": {
       "model_id": "f14254004c5d4e85a01a1f2ad19133e6",
       "version_major": 2,
       "version_minor": 0
      },
      "text/plain": [
       "HBox(children=(IntProgress(value=0, max=10000), HTML(value='')))"
      ]
     },
     "metadata": {},
     "output_type": "display_data"
    },
    {
     "name": "stdout",
     "output_type": "stream",
     "text": [
      "\n"
     ]
    },
    {
     "data": {
      "application/vnd.jupyter.widget-view+json": {
       "model_id": "d114b84f783441e8bb7914f4b41e30cd",
       "version_major": 2,
       "version_minor": 0
      },
      "text/plain": [
       "HBox(children=(IntProgress(value=0, max=1000), HTML(value='')))"
      ]
     },
     "metadata": {},
     "output_type": "display_data"
    },
    {
     "name": "stdout",
     "output_type": "stream",
     "text": [
      "\n"
     ]
    }
   ],
   "source": [
    "generate_xml_annotations(os.path.join(root_path, \"xml_dataset/train\"), 10000, overwrite=True)\n",
    "generate_xml_annotations(os.path.join(root_path, \"xml_dataset/valid\"), 1000, overwrite=True)"
   ]
  },
  {
   "cell_type": "code",
   "execution_count": null,
   "metadata": {},
   "outputs": [],
   "source": []
  }
 ],
 "metadata": {
  "kernelspec": {
   "display_name": "Python 3",
   "language": "python",
   "name": "python3"
  },
  "language_info": {
   "codemirror_mode": {
    "name": "ipython",
    "version": 3
   },
   "file_extension": ".py",
   "mimetype": "text/x-python",
   "name": "python",
   "nbconvert_exporter": "python",
   "pygments_lexer": "ipython3",
   "version": "3.6.5"
  }
 },
 "nbformat": 4,
 "nbformat_minor": 2
}
